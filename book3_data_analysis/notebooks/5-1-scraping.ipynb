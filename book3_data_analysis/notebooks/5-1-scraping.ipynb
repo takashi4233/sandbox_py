{
 "cells": [
  {
   "cell_type": "markdown",
   "metadata": {},
   "source": [
    "# 5.1 スクレイピング"
   ]
  },
  {
   "cell_type": "markdown",
   "metadata": {},
   "source": [
    "## 5.1.2 スクレイピング環境の準備\n",
    "\n",
    "```\n",
    "(pydataenv) $ pip install requests==2.19.1\n",
    "(pydataenv) $ pip install beautifulsoup4==4.6.0\n",
    "```\n",
    "\n",
    "* Requests: http://docs.python-requests.org/\n",
    "* BeautifulSoup4: https://www.crummy.com/software/BeautifulSoup/bs4/doc/"
   ]
  },
  {
   "cell_type": "markdown",
   "metadata": {},
   "source": [
    "## 5.1.3 Webページをダウンロード\n",
    "\n",
    "* CodeZine https://codezine.jp/"
   ]
  },
  {
   "cell_type": "code",
   "execution_count": 1,
   "metadata": {},
   "outputs": [
    {
     "name": "stdout",
     "output_type": "stream",
     "text": [
      "<class 'requests.models.Response'>\n",
      "200\n"
     ]
    }
   ],
   "source": [
    "import requests\n",
    "\n",
    "r = requests.get('https://codezine.jp')  # URLにアクセスする\n",
    "print(type(r))\n",
    "print(r.status_code)  # ステータスコードを確認"
   ]
  },
  {
   "cell_type": "code",
   "execution_count": 2,
   "metadata": {},
   "outputs": [
    {
     "name": "stdout",
     "output_type": "stream",
     "text": [
      "<title>CodeZine（コードジン）</title>\n",
      "<h1><a href=\"/\"><img src=\"/lib/img/cmn/cmn-header-logo.png\" alt=\"CodeZine（コードジン）\" ></a></h1>\n"
     ]
    }
   ],
   "source": [
    "text = r.text  # HTMLのソースコードを取得する\n",
    "for line in text.split('\\n'):\n",
    "    if'<title>' in line or '<h1>' in line:\n",
    "        print(line.strip())"
   ]
  },
  {
   "cell_type": "markdown",
   "metadata": {},
   "source": [
    "## 5.1.4 Webページから要素を抜き出す"
   ]
  },
  {
   "cell_type": "code",
   "execution_count": 3,
   "metadata": {},
   "outputs": [
    {
     "name": "stdout",
     "output_type": "stream",
     "text": [
      "<title>CodeZine（コードジン）</title>\n",
      "<h1><a href=\"/\"><img alt=\"CodeZine（コードジン）\" src=\"/lib/img/cmn/cmn-header-logo.png\"/></a></h1>\n",
      "CodeZine（コードジン）\n"
     ]
    }
   ],
   "source": [
    "from bs4 import BeautifulSoup\n",
    "\n",
    "# HTMLを解析したオブジェクトを生成\n",
    "soup = BeautifulSoup(text, 'html.parser')\n",
    "print(soup.title)  # <title> タグの情報を取得\n",
    "print(soup.h1)  # <h1> タグの情報を取得\n",
    "# h1タグの中のaタグの中のimgタグの中のalt属性\n",
    "print(soup.h1.a.img['alt'])"
   ]
  },
  {
   "cell_type": "code",
   "execution_count": 4,
   "metadata": {},
   "outputs": [
    {
     "name": "stdout",
     "output_type": "stream",
     "text": [
      "aタグの数: 163\n",
      "タイトル: このページの本文へ移動\n",
      "リンク: #contents\n",
      "タイトル: 企業IT\n",
      "リンク: https://enterprisezine.jp/\n",
      "タイトル: 開発\n",
      "リンク: https://codezine.jp/\n",
      "タイトル: データベース\n",
      "リンク: https://enterprisezine.jp/dbonline/\n",
      "タイトル: セキュリティ\n",
      "リンク: https://enterprisezine.jp/securityonline/\n"
     ]
    }
   ],
   "source": [
    "atags = soup.find_all('a')  # すべてのaタグを取得\n",
    "print('aタグの数:', len(atags))  # aタグの数を取得\n",
    "for atag in atags[:5]:\n",
    "    print('タイトル:', atag.text)  # aタグのテキストを取得\n",
    "    print('リンク:', atag['href'])  # aタグのリンクを取得"
   ]
  },
  {
   "cell_type": "markdown",
   "metadata": {},
   "source": [
    "## 5.1.5 記事の一覧を抜き出す\n",
    "\n",
    "* CodeZine: https://codezine.jp/article/tag/223"
   ]
  },
  {
   "cell_type": "code",
   "execution_count": 5,
   "metadata": {},
   "outputs": [],
   "source": [
    "from datetime import datetime\n",
    "\n",
    "import requests\n",
    "from bs4 import BeautifulSoup\n",
    "\n",
    "r = requests.get('https://codezine.jp/article/tag/223')\n",
    "soup = BeautifulSoup(r.text, 'html.parser')\n",
    "\n",
    "articles = []  # 各記事の情報を格納するリスト\n",
    "\n",
    "# CSSセレクターで <ul class=\"catList\"><li> を取得\n",
    "lis = soup.select('ul.catList > li')\n",
    "for li in lis:\n",
    "    # 日付の文字列を取得\n",
    "    day = li.find('div', class_='day').text.strip()\n",
    "    # 日付をdatetimeに変換\n",
    "    published = datetime.strptime(day, '%Y/%m/%d')\n",
    "    h2_tag = li.find('h2')  # h2タグを取得\n",
    "    title = h2_tag.text  # タイトルを取得\n",
    "    url = h2_tag.a['href']  # URLを取得\n",
    "    \n",
    "    tag_list = li.select('ul.tag > li')  # タグのli要素を取得\n",
    "    # タグのリストを生成\n",
    "    tags = [tag.text.strip() for tag in tag_list]\n",
    "    \n",
    "    article = {\n",
    "        'publisthed': published,\n",
    "        'title': title,\n",
    "        'url': url,\n",
    "        'tags': tags\n",
    "    }\n",
    "    articles.append(article)"
   ]
  },
  {
   "cell_type": "code",
   "execution_count": 6,
   "metadata": {},
   "outputs": [
    {
     "data": {
      "text/plain": [
       "[{'publisthed': datetime.datetime(2018, 9, 6, 0, 0),\n",
       "  'title': 'Pythonでデータと向き合いながら価値を見出す「探索的データ解析」に挑戦しよう',\n",
       "  'url': '/article/detail/11043',\n",
       "  'tags': ['Python']},\n",
       " {'publisthed': datetime.datetime(2018, 9, 1, 0, 0),\n",
       "  'title': '「PyCon JP 2018 ひろがるPython」登壇者座談会 ～わたしのPythonのひろげかた～',\n",
       "  'url': '/article/detail/11031',\n",
       "  'tags': ['Python', 'イベントレポート']},\n",
       " {'publisthed': datetime.datetime(2018, 7, 5, 0, 0),\n",
       "  'title': 'クイズ王たちを凌駕する早押しクイズAIはこう作る～PyData.Tokyo Meetup #18イベントレポート',\n",
       "  'url': '/article/detail/10865',\n",
       "  'tags': ['Python', 'レポート']}]"
      ]
     },
     "execution_count": 6,
     "metadata": {},
     "output_type": "execute_result"
    }
   ],
   "source": [
    "articles[:3]"
   ]
  },
  {
   "cell_type": "code",
   "execution_count": 7,
   "metadata": {},
   "outputs": [],
   "source": [
    "import pandas as pd\n",
    "\n",
    "df = pd.DataFrame(articles)  # 辞書をDataFrameに変換"
   ]
  },
  {
   "cell_type": "code",
   "execution_count": 8,
   "metadata": {},
   "outputs": [
    {
     "data": {
      "text/html": [
       "<div>\n",
       "<style scoped>\n",
       "    .dataframe tbody tr th:only-of-type {\n",
       "        vertical-align: middle;\n",
       "    }\n",
       "\n",
       "    .dataframe tbody tr th {\n",
       "        vertical-align: top;\n",
       "    }\n",
       "\n",
       "    .dataframe thead th {\n",
       "        text-align: right;\n",
       "    }\n",
       "</style>\n",
       "<table border=\"1\" class=\"dataframe\">\n",
       "  <thead>\n",
       "    <tr style=\"text-align: right;\">\n",
       "      <th></th>\n",
       "      <th>publisthed</th>\n",
       "      <th>tags</th>\n",
       "      <th>title</th>\n",
       "      <th>url</th>\n",
       "    </tr>\n",
       "  </thead>\n",
       "  <tbody>\n",
       "    <tr>\n",
       "      <th>0</th>\n",
       "      <td>2018-09-06</td>\n",
       "      <td>[Python]</td>\n",
       "      <td>Pythonでデータと向き合いながら価値を見出す「探索的データ解析」に挑戦しよう</td>\n",
       "      <td>/article/detail/11043</td>\n",
       "    </tr>\n",
       "    <tr>\n",
       "      <th>1</th>\n",
       "      <td>2018-09-01</td>\n",
       "      <td>[Python, イベントレポート]</td>\n",
       "      <td>「PyCon JP 2018 ひろがるPython」登壇者座談会 ～わたしのPythonのひ...</td>\n",
       "      <td>/article/detail/11031</td>\n",
       "    </tr>\n",
       "    <tr>\n",
       "      <th>2</th>\n",
       "      <td>2018-07-05</td>\n",
       "      <td>[Python, レポート]</td>\n",
       "      <td>クイズ王たちを凌駕する早押しクイズAIはこう作る～PyData.Tokyo Meetup #...</td>\n",
       "      <td>/article/detail/10865</td>\n",
       "    </tr>\n",
       "    <tr>\n",
       "      <th>3</th>\n",
       "      <td>2018-07-02</td>\n",
       "      <td>[Python, データ分析]</td>\n",
       "      <td>本格的なPythonデータ解析環境を手軽に！ 「Jupyter Notebook」の導入から...</td>\n",
       "      <td>/article/detail/10917</td>\n",
       "    </tr>\n",
       "    <tr>\n",
       "      <th>4</th>\n",
       "      <td>2018-05-17</td>\n",
       "      <td>[Python, インタビュー, TensorFlow, Keras]</td>\n",
       "      <td>目指したのは気軽に深層学習を試せる本 『TensorFlow開発入門』著者陣が語る</td>\n",
       "      <td>/article/detail/10805</td>\n",
       "    </tr>\n",
       "    <tr>\n",
       "      <th>5</th>\n",
       "      <td>2018-04-20</td>\n",
       "      <td>[Python, インタビュー, 統計学]</td>\n",
       "      <td>データを扱う開発者なら統計学の知識は大きな強みに～Pythonを使って基礎から学ぶ</td>\n",
       "      <td>/article/detail/10765</td>\n",
       "    </tr>\n",
       "    <tr>\n",
       "      <th>6</th>\n",
       "      <td>2018-04-13</td>\n",
       "      <td>[Python, 統計学]</td>\n",
       "      <td>データ分析に不可欠の統計学をPythonで学べる！『Pythonで学ぶあたらしい統計学の教科...</td>\n",
       "      <td>/article/detail/10734</td>\n",
       "    </tr>\n",
       "    <tr>\n",
       "      <th>7</th>\n",
       "      <td>2018-01-29</td>\n",
       "      <td>[Python, インタビュー, 機械学習]</td>\n",
       "      <td>機械学習の理解を数学で挫折してしまった人のために――『あたらしい機械学習の教科書』伊藤真さんに訊く</td>\n",
       "      <td>/article/detail/10631</td>\n",
       "    </tr>\n",
       "    <tr>\n",
       "      <th>8</th>\n",
       "      <td>2018-01-17</td>\n",
       "      <td>[Python, 機械学習]</td>\n",
       "      <td>機械学習を始めたい！ まずは『Pythonで動かして学ぶ！ あたらしい機械学習の教科書』で感...</td>\n",
       "      <td>/article/detail/10583</td>\n",
       "    </tr>\n",
       "    <tr>\n",
       "      <th>9</th>\n",
       "      <td>2017-11-10</td>\n",
       "      <td>[Python, イベントレポート]</td>\n",
       "      <td>「技術カンファレンスへの参加の秘訣は臆せず飛び込むこと」――PyCon JP 2017発表者...</td>\n",
       "      <td>/article/detail/10507</td>\n",
       "    </tr>\n",
       "    <tr>\n",
       "      <th>10</th>\n",
       "      <td>2017-10-30</td>\n",
       "      <td>[Python, インタビュー]</td>\n",
       "      <td>データ収集だけ解説しても意味がない―『Pythonによるクローラー＆スクレイピング入門』イン...</td>\n",
       "      <td>/article/detail/10449</td>\n",
       "    </tr>\n",
       "    <tr>\n",
       "      <th>11</th>\n",
       "      <td>2017-10-23</td>\n",
       "      <td>[Python]</td>\n",
       "      <td>目的別の設計からデータ解析の手法も！『Pythonによるクローラー＆スクレイピング入門』</td>\n",
       "      <td>/article/detail/10425</td>\n",
       "    </tr>\n",
       "    <tr>\n",
       "      <th>12</th>\n",
       "      <td>2017-08-31</td>\n",
       "      <td>[Python, イベントレポート]</td>\n",
       "      <td>PyCon JP 2017開催直前、緊急座談会　～採択倍率4倍を潜り抜けた登壇者たちが、発表...</td>\n",
       "      <td>/article/detail/10391</td>\n",
       "    </tr>\n",
       "    <tr>\n",
       "      <th>13</th>\n",
       "      <td>2017-08-16</td>\n",
       "      <td>[Python, インタビュー]</td>\n",
       "      <td>Pythonは今のうちに習得すべき？『スラスラわかるPython』著者・岩崎さんとPyCon...</td>\n",
       "      <td>/article/detail/10329</td>\n",
       "    </tr>\n",
       "    <tr>\n",
       "      <th>14</th>\n",
       "      <td>2017-08-09</td>\n",
       "      <td>[Python]</td>\n",
       "      <td>機械学習をやるならPythonの時代？ 初心者の目線で「なぜ」を解説する『スラスラわかるPy...</td>\n",
       "      <td>/article/detail/10295</td>\n",
       "    </tr>\n",
       "    <tr>\n",
       "      <th>15</th>\n",
       "      <td>2017-05-12</td>\n",
       "      <td>[Python]</td>\n",
       "      <td>Pythonで使って覚えるEvernote API</td>\n",
       "      <td>/article/detail/10055</td>\n",
       "    </tr>\n",
       "    <tr>\n",
       "      <th>16</th>\n",
       "      <td>2017-04-25</td>\n",
       "      <td>[Python, 資格]</td>\n",
       "      <td>Pythonはインフラエンジニアにも人気！ Pythonエンジニア認定試験は素直でバランスの...</td>\n",
       "      <td>/article/detail/10143</td>\n",
       "    </tr>\n",
       "    <tr>\n",
       "      <th>17</th>\n",
       "      <td>2017-01-05</td>\n",
       "      <td>[Python, イベントレポート]</td>\n",
       "      <td>PyCon JP 2016 開催後レポート　～第4回 事務局チームのPyCon JP 2016</td>\n",
       "      <td>/article/detail/9871</td>\n",
       "    </tr>\n",
       "    <tr>\n",
       "      <th>18</th>\n",
       "      <td>2016-12-20</td>\n",
       "      <td>[Python, イベントレポート]</td>\n",
       "      <td>PyCon JP 2016 開催後レポート　～第3回 メディアチームのPyCon JP 2016</td>\n",
       "      <td>/article/detail/9852</td>\n",
       "    </tr>\n",
       "    <tr>\n",
       "      <th>19</th>\n",
       "      <td>2016-12-06</td>\n",
       "      <td>[Python, イベントレポート]</td>\n",
       "      <td>PyCon JP 2016 開催後レポート　～第2回 プログラムチームのPyCon JP 2016</td>\n",
       "      <td>/article/detail/9828</td>\n",
       "    </tr>\n",
       "  </tbody>\n",
       "</table>\n",
       "</div>"
      ],
      "text/plain": [
       "   publisthed                                 tags  \\\n",
       "0  2018-09-06                             [Python]   \n",
       "1  2018-09-01                   [Python, イベントレポート]   \n",
       "2  2018-07-05                       [Python, レポート]   \n",
       "3  2018-07-02                      [Python, データ分析]   \n",
       "4  2018-05-17  [Python, インタビュー, TensorFlow, Keras]   \n",
       "5  2018-04-20                [Python, インタビュー, 統計学]   \n",
       "6  2018-04-13                        [Python, 統計学]   \n",
       "7  2018-01-29               [Python, インタビュー, 機械学習]   \n",
       "8  2018-01-17                       [Python, 機械学習]   \n",
       "9  2017-11-10                   [Python, イベントレポート]   \n",
       "10 2017-10-30                     [Python, インタビュー]   \n",
       "11 2017-10-23                             [Python]   \n",
       "12 2017-08-31                   [Python, イベントレポート]   \n",
       "13 2017-08-16                     [Python, インタビュー]   \n",
       "14 2017-08-09                             [Python]   \n",
       "15 2017-05-12                             [Python]   \n",
       "16 2017-04-25                         [Python, 資格]   \n",
       "17 2017-01-05                   [Python, イベントレポート]   \n",
       "18 2016-12-20                   [Python, イベントレポート]   \n",
       "19 2016-12-06                   [Python, イベントレポート]   \n",
       "\n",
       "                                                title                    url  \n",
       "0            Pythonでデータと向き合いながら価値を見出す「探索的データ解析」に挑戦しよう  /article/detail/11043  \n",
       "1   「PyCon JP 2018 ひろがるPython」登壇者座談会 ～わたしのPythonのひ...  /article/detail/11031  \n",
       "2   クイズ王たちを凌駕する早押しクイズAIはこう作る～PyData.Tokyo Meetup #...  /article/detail/10865  \n",
       "3   本格的なPythonデータ解析環境を手軽に！ 「Jupyter Notebook」の導入から...  /article/detail/10917  \n",
       "4           目指したのは気軽に深層学習を試せる本 『TensorFlow開発入門』著者陣が語る  /article/detail/10805  \n",
       "5           データを扱う開発者なら統計学の知識は大きな強みに～Pythonを使って基礎から学ぶ  /article/detail/10765  \n",
       "6   データ分析に不可欠の統計学をPythonで学べる！『Pythonで学ぶあたらしい統計学の教科...  /article/detail/10734  \n",
       "7   機械学習の理解を数学で挫折してしまった人のために――『あたらしい機械学習の教科書』伊藤真さんに訊く  /article/detail/10631  \n",
       "8   機械学習を始めたい！ まずは『Pythonで動かして学ぶ！ あたらしい機械学習の教科書』で感...  /article/detail/10583  \n",
       "9   「技術カンファレンスへの参加の秘訣は臆せず飛び込むこと」――PyCon JP 2017発表者...  /article/detail/10507  \n",
       "10  データ収集だけ解説しても意味がない―『Pythonによるクローラー＆スクレイピング入門』イン...  /article/detail/10449  \n",
       "11       目的別の設計からデータ解析の手法も！『Pythonによるクローラー＆スクレイピング入門』  /article/detail/10425  \n",
       "12  PyCon JP 2017開催直前、緊急座談会　～採択倍率4倍を潜り抜けた登壇者たちが、発表...  /article/detail/10391  \n",
       "13  Pythonは今のうちに習得すべき？『スラスラわかるPython』著者・岩崎さんとPyCon...  /article/detail/10329  \n",
       "14  機械学習をやるならPythonの時代？ 初心者の目線で「なぜ」を解説する『スラスラわかるPy...  /article/detail/10295  \n",
       "15                          Pythonで使って覚えるEvernote API  /article/detail/10055  \n",
       "16  Pythonはインフラエンジニアにも人気！ Pythonエンジニア認定試験は素直でバランスの...  /article/detail/10143  \n",
       "17    PyCon JP 2016 開催後レポート　～第4回 事務局チームのPyCon JP 2016   /article/detail/9871  \n",
       "18   PyCon JP 2016 開催後レポート　～第3回 メディアチームのPyCon JP 2016   /article/detail/9852  \n",
       "19  PyCon JP 2016 開催後レポート　～第2回 プログラムチームのPyCon JP 2016   /article/detail/9828  "
      ]
     },
     "execution_count": 8,
     "metadata": {},
     "output_type": "execute_result"
    }
   ],
   "source": [
    "df"
   ]
  },
  {
   "cell_type": "markdown",
   "metadata": {},
   "source": [
    "## 5.1.6 スクレイピングで気をつけること\n",
    "\n",
    "* Robots.txtの仕様: https://developers.google.com/search/reference/robots_txt?hl=ja"
   ]
  },
  {
   "cell_type": "markdown",
   "metadata": {},
   "source": [
    "## 5.1.7 次のステップ\n",
    "\n",
    "* Selenium: https://www.seleniumhq.org/\n",
    "* Scrapy: https://scrapy.org/"
   ]
  }
 ],
 "metadata": {
  "kernelspec": {
   "display_name": "Python 3",
   "language": "python",
   "name": "python3"
  },
  "language_info": {
   "codemirror_mode": {
    "name": "ipython",
    "version": 3
   },
   "file_extension": ".py",
   "mimetype": "text/x-python",
   "name": "python",
   "nbconvert_exporter": "python",
   "pygments_lexer": "ipython3",
   "version": "3.6.6"
  }
 },
 "nbformat": 4,
 "nbformat_minor": 2
}
