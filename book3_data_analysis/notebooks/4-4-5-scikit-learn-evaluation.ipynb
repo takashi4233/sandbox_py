{
 "cells": [
  {
   "cell_type": "markdown",
   "metadata": {},
   "source": [
    "# 4.4.5 モデルの評価"
   ]
  },
  {
   "cell_type": "code",
   "execution_count": 1,
   "metadata": {},
   "outputs": [],
   "source": [
    "from sklearn.datasets import load_iris\n",
    "from sklearn.svm import SVC\n",
    "from sklearn.model_selection import train_test_split\n",
    "# Irisデータセットを読み込む\n",
    "iris = load_iris()\n",
    "X, y = iris.data[:100, :], iris.target[:100]\n",
    "# 学習データセット、テストデータセットに分割\n",
    "X_train, X_test, y_train, y_test = train_test_split(X, y, test_size=0.3, random_state=123)\n",
    "# SVMのインスタンス化\n",
    "svc = SVC()\n",
    "# SVMで学習\n",
    "svc.fit(X_train, y_train)\n",
    "# テストデータセットの予測\n",
    "y_pred = svc.predict(X_test)"
   ]
  },
  {
   "cell_type": "code",
   "execution_count": 2,
   "metadata": {},
   "outputs": [
    {
     "name": "stdout",
     "output_type": "stream",
     "text": [
      "             precision    recall  f1-score   support\n",
      "\n",
      "          0       1.00      1.00      1.00        15\n",
      "          1       1.00      1.00      1.00        15\n",
      "\n",
      "avg / total       1.00      1.00      1.00        30\n",
      "\n"
     ]
    }
   ],
   "source": [
    "from sklearn.metrics import classification_report\n",
    "# 適合率、再現率、F値を出力\n",
    "print(classification_report(y_test, y_pred))"
   ]
  },
  {
   "cell_type": "code",
   "execution_count": 3,
   "metadata": {},
   "outputs": [
    {
     "data": {
      "text/plain": [
       "array([1., 1., 1., 1., 1., 1., 1., 1., 1., 1.])"
      ]
     },
     "execution_count": 3,
     "metadata": {},
     "output_type": "execute_result"
    }
   ],
   "source": [
    "from sklearn.svm import SVC\n",
    "from sklearn.model_selection import cross_val_score\n",
    "# サポートベクタマシンをインスタンス化\n",
    "svc = SVC()\n",
    "# 10分割の交差検証を実行\n",
    "cross_val_score(svc, X, y, cv=10, scoring='precision')"
   ]
  },
  {
   "cell_type": "code",
   "execution_count": 4,
   "metadata": {},
   "outputs": [
    {
     "data": {
      "text/plain": [
       "<Figure size 640x480 with 1 Axes>"
      ]
     },
     "metadata": {},
     "output_type": "display_data"
    }
   ],
   "source": [
    "import numpy as np\n",
    "import matplotlib.pyplot as plt\n",
    "# 偽陽性率と真陽性率を算出\n",
    "fpr = np.array([0, 0, 0, 1, 1, 2, 3, 3, 3, 3, 4, 5, 5, 6, 7, 8, 8, 8, 9, 10, 11, 12, 12, 13, 14])/14\n",
    "tpr = np.array([0, 1, 2, 2, 3, 3, 3, 4, 5, 6, 6, 6, 7, 7, 7, 7, 8, 9, 9, 10, 10, 10, 11, 11, 11])/11\n",
    "# ROC曲線をプロット\n",
    "fig, ax = plt.subplots()\n",
    "ax.step(fpr, tpr)\n",
    "ax.set_xlabel('false positive rate')\n",
    "ax.set_ylabel('true positive rate')\n",
    "plt.show()"
   ]
  },
  {
   "cell_type": "code",
   "execution_count": 5,
   "metadata": {},
   "outputs": [
    {
     "name": "stdout",
     "output_type": "stream",
     "text": [
      "偽陽性率:  [0.         0.         0.07142857 0.07142857 0.21428571 0.21428571\n",
      " 0.35714286 0.35714286 0.57142857 0.57142857 0.71428571 0.71428571\n",
      " 0.85714286 0.85714286 1.        ]\n",
      "真陽性率:  [0.09090909 0.18181818 0.18181818 0.27272727 0.27272727 0.54545455\n",
      " 0.54545455 0.63636364 0.63636364 0.81818182 0.81818182 0.90909091\n",
      " 0.90909091 1.         1.        ]\n"
     ]
    }
   ],
   "source": [
    "from sklearn.metrics import roc_curve\n",
    "labels = np.array([1, 1, 0, 1, 0, 0, 1, 1, 1, 0, 0, 1, 0, 0, 0, 1, 1, 0, 0, 1, 0, 0, 1, 0, 0])\n",
    "probs = np.array([0.98, 0.95, 0.9, 0.87, 0.85, \n",
    "                  0.8, 0.75, 0.71, 0.63, 0.55, \n",
    "                  0.51, 0.47, 0.43, 0.38, 0.35, \n",
    "                  0.31, 0.28, 0.24, 0.22, 0.19, \n",
    "                  0.15, 0.12, 0.08, 0.004, 0.01])\n",
    "# 偽陽性率、真陽性率、しきい値を算出\n",
    "fpr, tpr, threshold = roc_curve(labels, probs)\n",
    "print('偽陽性率: ', fpr)\n",
    "print('真陽性率: ', tpr)"
   ]
  },
  {
   "cell_type": "code",
   "execution_count": 6,
   "metadata": {},
   "outputs": [
    {
     "data": {
      "image/png": "[encoded data removed]",
      "text/plain": [
       "<Figure size 432x288 with 1 Axes>"
      ]
     },
     "metadata": {},
     "output_type": "display_data"
    }
   ],
   "source": [
    "# ROC曲線をプロット\n",
    "fig, ax = plt.subplots()\n",
    "ax.step(fpr, tpr)\n",
    "ax.set_xlabel('false positive rate')\n",
    "ax.set_ylabel('true positive rate')\n",
    "plt.show()"
   ]
  },
  {
   "cell_type": "code",
   "execution_count": 7,
   "metadata": {},
   "outputs": [
    {
     "data": {
      "text/plain": [
       "0.6558441558441558"
      ]
     },
     "execution_count": 7,
     "metadata": {},
     "output_type": "execute_result"
    }
   ],
   "source": [
    "from sklearn.metrics import roc_auc_score\n",
    "# AUCを算出\n",
    "roc_auc_score(labels, probs)"
   ]
  },
  {
   "cell_type": "code",
   "execution_count": null,
   "metadata": {},
   "outputs": [],
   "source": []
  }
 ],
 "metadata": {
  "kernelspec": {
   "display_name": "Python 3",
   "language": "python",
   "name": "python3"
  },
  "language_info": {
   "codemirror_mode": {
    "name": "ipython",
    "version": 3
   },
   "file_extension": ".py",
   "mimetype": "text/x-python",
   "name": "python",
   "nbconvert_exporter": "python",
   "pygments_lexer": "ipython3",
   "version": "3.6.0"
  }
 },
 "nbformat": 4,
 "nbformat_minor": 2
}
