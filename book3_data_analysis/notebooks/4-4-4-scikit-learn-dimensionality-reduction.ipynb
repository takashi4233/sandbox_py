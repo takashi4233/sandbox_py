{
 "cells": [
  {
   "cell_type": "markdown",
   "metadata": {},
   "source": [
    "# 4.4.4 次元削減"
   ]
  },
  {
   "cell_type": "code",
   "execution_count": 1,
   "metadata": {},
   "outputs": [
    {
     "data": {
      "text/plain": [
       "<Figure size 640x480 with 1 Axes>"
      ]
     },
     "metadata": {},
     "output_type": "display_data"
    }
   ],
   "source": [
    "import numpy as np\n",
    "import matplotlib.pyplot as plt\n",
    "# シード値を固定\n",
    "np.random.seed(123)\n",
    "# 0以上1未満の一様乱数を50個生成\n",
    "X = np.random.random(size=50)\n",
    "# Xを2倍した後に0以上1未満の一様乱数を0.5倍して足し合わせる\n",
    "Y = 2*X + 0.5*np.random.rand(50)\n",
    "# 散布図をプロット\n",
    "fig, ax = plt.subplots()\n",
    "ax.scatter(X, Y)\n",
    "plt.show()"
   ]
  },
  {
   "cell_type": "code",
   "execution_count": 2,
   "metadata": {},
   "outputs": [],
   "source": [
    "from sklearn.decomposition import PCA\n",
    "# 主成分のクラスをインスタンス化\n",
    "pca = PCA(n_components=2)\n",
    "# 主成分分析を実行\n",
    "X_pca = pca.fit_transform(np.hstack((X[:, np.newaxis], Y[:, np.newaxis])))"
   ]
  },
  {
   "cell_type": "code",
   "execution_count": 3,
   "metadata": {},
   "outputs": [
    {
     "data": {
      "image/png": "[encoded data removed]",
      "text/plain": [
       "<Figure size 432x288 with 1 Axes>"
      ]
     },
     "metadata": {},
     "output_type": "display_data"
    }
   ],
   "source": [
    "# 主成分分析の結果から得られた座標を散布図にプロット\n",
    "fig, ax = plt.subplots()\n",
    "ax.scatter(X_pca[:, 0], X_pca[:, 1])\n",
    "ax.set_xlabel('PCA1')\n",
    "ax.set_ylabel('PCA2')\n",
    "ax.set_xlim(-1.1, 1.1)\n",
    "ax.set_ylim(-1.1, 1.1)\n",
    "plt.show()"
   ]
  },
  {
   "cell_type": "code",
   "execution_count": null,
   "metadata": {},
   "outputs": [],
   "source": []
  }
 ],
 "metadata": {
  "kernelspec": {
   "display_name": "Python 3",
   "language": "python",
   "name": "python3"
  },
  "language_info": {
   "codemirror_mode": {
    "name": "ipython",
    "version": 3
   },
   "file_extension": ".py",
   "mimetype": "text/x-python",
   "name": "python",
   "nbconvert_exporter": "python",
   "pygments_lexer": "ipython3",
   "version": "3.6.0"
  }
 },
 "nbformat": 4,
 "nbformat_minor": 2
}
