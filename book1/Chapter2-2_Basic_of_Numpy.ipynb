{
 "cells": [
  {
   "cell_type": "code",
   "execution_count": 7,
   "metadata": {},
   "outputs": [
    {
     "data": {
      "text/plain": [
       "'%.3f'"
      ]
     },
     "execution_count": 7,
     "metadata": {},
     "output_type": "execute_result"
    }
   ],
   "source": [
    "#　使用ライブラリ\n",
    "    import numpy as np\n",
    "import numpy.random as random\n",
    "import scipy as sp\n",
    "import pandas as pd\n",
    "from pandas import Series,DataFrame\n",
    "#　可視化ライブラリ\n",
    "import matplotlib.pyplot as plt\n",
    "import matplotlib as mpl\n",
    "import seaborn as sns\n",
    "%matplotlib inline\n",
    "\n",
    "# 小数第三位まで表示\n",
    "%precision 3\n"
   ]
  },
  {
   "cell_type": "code",
   "execution_count": 8,
   "metadata": {},
   "outputs": [],
   "source": [
    "data = np.array([9,2,3,4,10,6,8,1,5])"
   ]
  },
  {
   "cell_type": "code",
   "execution_count": 10,
   "metadata": {},
   "outputs": [
    {
     "name": "stdout",
     "output_type": "stream",
     "text": [
      "[ 9  2  3  4 10  6  8  1  5]\n"
     ]
    }
   ],
   "source": [
    "print(data)"
   ]
  },
  {
   "cell_type": "code",
   "execution_count": 15,
   "metadata": {},
   "outputs": [
    {
     "name": "stdout",
     "output_type": "stream",
     "text": [
      "1\n",
      "9\n"
     ]
    }
   ],
   "source": [
    "print (data.ndim)\n",
    "print (data.size)"
   ]
  },
  {
   "cell_type": "code",
   "execution_count": 20,
   "metadata": {},
   "outputs": [
    {
     "name": "stdout",
     "output_type": "stream",
     "text": [
      "[ 2  4  6  8 10 12 16 18 20]\n",
      "[  1   4   9  16  25  36  64  81 100]\n",
      "[0.2 0.4 0.6 0.8 1.  1.2 1.6 1.8 2. ]\n",
      "[0.333 0.667 1.    1.333 1.667 2.    2.667 3.    3.333]\n"
     ]
    }
   ],
   "source": [
    "print (data * 2)\n",
    "print (data ** 2)\n",
    "print (data / 5.0)\n",
    "print (data / 3)"
   ]
  },
  {
   "cell_type": "code",
   "execution_count": 25,
   "metadata": {},
   "outputs": [
    {
     "name": "stdout",
     "output_type": "stream",
     "text": [
      "[ 1  2  3  4  5  6  8  9 10]\n",
      "[10  9  8  6  5  4  3  2  1]\n"
     ]
    }
   ],
   "source": [
    "#P38\n",
    "data.sort()\n",
    "print (data)\n",
    "data[::-1].sort()\n",
    "print (data)"
   ]
  },
  {
   "cell_type": "code",
   "execution_count": 134,
   "metadata": {},
   "outputs": [
    {
     "name": "stdout",
     "output_type": "stream",
     "text": [
      "min : 1\n",
      "max : 10\n",
      "mean: 5.333333333333333\n",
      "sum : 48\n",
      "cum : [10 19 27 33 38 42 45 47 48]\n"
     ]
    }
   ],
   "source": [
    "print (f\"min : {data.min()}\")\n",
    "print (f\"max : {data.max()}\")\n",
    "#meanは平均値\n",
    "print (f\"mean: {data.mean()}\")\n",
    "print (f\"sum : {data.sum()}\")\n",
    "#\n",
    "print (f\"cum : {data.cumsum()}\")\n"
   ]
  },
  {
   "cell_type": "code",
   "execution_count": 135,
   "metadata": {},
   "outputs": [
    {
     "name": "stdout",
     "output_type": "stream",
     "text": [
      "[ 1.764  0.4    0.979  2.241  1.868 -0.977  0.95  -0.151 -0.103  0.411\n",
      "  0.144  1.454  0.761  0.122  0.444  0.334  1.494 -0.205  0.313 -0.854\n",
      " -2.553  0.654  0.864 -0.742  2.27  -1.454  0.046 -0.187  1.533  1.469\n",
      "  0.155  0.378 -0.888 -1.981 -0.348  0.156  1.23   1.202 -0.387 -0.302\n",
      " -1.049 -1.42  -1.706  1.951 -0.51  -0.438 -1.253  0.777 -1.614 -0.213\n",
      " -0.895  0.387 -0.511 -1.181 -0.028  0.428  0.067  0.302 -0.634 -0.363\n",
      " -0.672 -0.36  -0.813 -1.726  0.177 -0.402 -1.63   0.463 -0.907  0.052\n",
      "  0.729  0.129  1.139 -1.235  0.402 -0.685 -0.871 -0.579 -0.312  0.056\n",
      " -1.165  0.901  0.466 -1.536  1.488  1.896  1.179 -0.18  -1.071  1.054\n",
      " -0.403  1.222  0.208  0.977  0.356  0.707  0.011  1.786  0.127  0.402]\n"
     ]
    }
   ],
   "source": [
    "#乱数のseedを指定することで発生する乱数を固定する\n",
    "random.seed(0)\n",
    "rnd_data = random.randn(100)\n",
    "print (rnd_data)"
   ]
  },
  {
   "cell_type": "code",
   "execution_count": 71,
   "metadata": {},
   "outputs": [
    {
     "name": "stdout",
     "output_type": "stream",
     "text": [
      "[-0.187  0.777  1.951  0.901 -0.977 -1.253  0.444 -1.63   0.979 -1.165]\n"
     ]
    }
   ],
   "source": [
    "#乱数から無作為に10個抽出する,replaceは重複の可否\n",
    "print (random.choice(rnd_data,10,replace =  False))"
   ]
  },
  {
   "cell_type": "code",
   "execution_count": 74,
   "metadata": {},
   "outputs": [
    {
     "name": "stdout",
     "output_type": "stream",
     "text": [
      "4.6 ms ± 96.9 µs per loop (mean ± std. dev. of 7 runs, 100 loops each)\n",
      "378 µs ± 6.33 µs per loop (mean ± std. dev. of 7 runs, 1000 loops each)\n"
     ]
    }
   ],
   "source": [
    "#1000000の乱数を発生させてその合計を算出する時間を計測\n",
    "#圧倒的にnumpyの方が早い・・・・。\n",
    "N = 10 ** 6\n",
    "normal_data = [random.random() for _ in range(N)]\n",
    "\n",
    "numpy_random_data = np.array(normal_data)\n",
    "\n",
    "%timeit sum(normal_data)\n",
    "%timeit np.sum(numpy_random_data)"
   ]
  },
  {
   "cell_type": "code",
   "execution_count": 140,
   "metadata": {},
   "outputs": [
    {
     "name": "stdout",
     "output_type": "stream",
     "text": [
      "# 9のリストを生成して、3x3の行列に整形する\n",
      "[[0 1 2]\n",
      " [3 4 5]\n",
      " [6 7 8]]\n",
      "# 12のリストを生成して、4x3の行列に整形する\n",
      "[[ 0  1  2]\n",
      " [ 3  4  5]\n",
      " [ 6  7  8]\n",
      " [ 9 10 11]]\n",
      "#2行目を取得\n",
      "[3 4 5]\n",
      "#2行目を取得\n",
      "[ 1  4  7 10]\n"
     ]
    }
   ],
   "source": [
    "print (\"# 9のリストを生成して、3x3の行列に整形する\")\n",
    "ary = np.arange(9).reshape(3,3)\n",
    "print (ary)\n",
    "print (\"# 12のリストを生成して、4x3の行列に整形する\")\n",
    "ary = np.arange(12).reshape(4,3)\n",
    "print (ary)\n",
    "\n",
    "print (\"#2行目を取得\")\n",
    "print (ary[1,:])\n",
    "\n",
    "print (\"#2列目を取得\")\n",
    "print (ary[:,1])"
   ]
  },
  {
   "cell_type": "code",
   "execution_count": null,
   "metadata": {},
   "outputs": [],
   "source": [
    "#行列計算例"
   ]
  },
  {
   "cell_type": "code",
   "execution_count": 88,
   "metadata": {},
   "outputs": [
    {
     "name": "stdout",
     "output_type": "stream",
     "text": [
      "[ 1  4  7 10]\n"
     ]
    }
   ],
   "source": [
    "print (ary[:,1])"
   ]
  },
  {
   "cell_type": "code",
   "execution_count": 100,
   "metadata": {},
   "outputs": [
    {
     "name": "stdout",
     "output_type": "stream",
     "text": [
      "[[0 1]\n",
      " [2 3]]\n",
      "[[4 5]\n",
      " [2 3]]\n",
      "[[ 2  3]\n",
      " [14 19]]\n",
      "[[0 5]\n",
      " [4 9]]\n",
      "[[0 0 0]\n",
      " [0 0 0]]\n",
      "[[1 1 1]\n",
      " [1 1 1]\n",
      " [1 1 1]]\n"
     ]
    }
   ],
   "source": [
    "ary1 = np.arange(4).reshape(2,2)\n",
    "print (ary1)\n",
    "ary2 = np.array([4,5,2,3]).reshape(2,2)\n",
    "print (ary2)\n",
    "# 行列の積\n",
    "print (np.dot(ary1,ary2))\n",
    "\n",
    "# 要素同士の和\n",
    "print (ary1 * ary2)\n",
    "\n",
    "#要素が0,1の行列\n",
    "print (np.zeros((2,3), dtype= np.int64))\n",
    "print (np.ones((3,3), dtype= np.int64))\n",
    "\n"
   ]
  },
  {
   "cell_type": "code",
   "execution_count": 143,
   "metadata": {},
   "outputs": [
    {
     "name": "stdout",
     "output_type": "stream",
     "text": [
      "合計は1275\n",
      "合計は1275\n"
     ]
    }
   ],
   "source": [
    "#練習課題2-1\n",
    "ary3 = np.arange(51)\n",
    "print (f\"合計は{ary3.sum()}\")\n",
    "print (f\"合計は{np.sum(ary3)}\")\n",
    "\n"
   ]
  },
  {
   "cell_type": "code",
   "execution_count": 123,
   "metadata": {},
   "outputs": [
    {
     "name": "stdout",
     "output_type": "stream",
     "text": [
      "[0.049 0.406 0.968 0.803 0.978 0.358 0.733 0.482 0.591 0.295]\n",
      "最大値は0.9783812610990192,最小値は0.048667475255877,平均値は0.5664273696089843 or 0.5664273696089843\n"
     ]
    }
   ],
   "source": [
    "#練習課題2-2\n",
    "ary4 = random.rand(10)\n",
    "print (f\"{ary4}\")\n",
    "print (f\"最大値は{np.max(ary4)},最小値は{np.min(ary4)},平均値は{np.sum(ary4)/len(ary4)} or {np.average(ary4)}\")"
   ]
  },
  {
   "cell_type": "code",
   "execution_count": 129,
   "metadata": {},
   "outputs": [
    {
     "name": "stdout",
     "output_type": "stream",
     "text": [
      "[[3. 3. 3. 3. 3.]\n",
      " [3. 3. 3. 3. 3.]\n",
      " [3. 3. 3. 3. 3.]\n",
      " [3. 3. 3. 3. 3.]\n",
      " [3. 3. 3. 3. 3.]]\n",
      "[[45. 45. 45. 45. 45.]\n",
      " [45. 45. 45. 45. 45.]\n",
      " [45. 45. 45. 45. 45.]\n",
      " [45. 45. 45. 45. 45.]\n",
      " [45. 45. 45. 45. 45.]]\n"
     ]
    }
   ],
   "source": [
    "#練習課題2-3\n",
    "ary5 = np.ones((5,5))\n",
    "ary5 *= 3\n",
    "print (np.dot(ary5,ary5))"
   ]
  }
 ],
 "metadata": {
  "kernelspec": {
   "display_name": "Python 3",
   "language": "python",
   "name": "python3"
  },
  "language_info": {
   "codemirror_mode": {
    "name": "ipython",
    "version": 3
   },
   "file_extension": ".py",
   "mimetype": "text/x-python",
   "name": "python",
   "nbconvert_exporter": "python",
   "pygments_lexer": "ipython3",
   "version": "3.7.4"
  }
 },
 "nbformat": 4,
 "nbformat_minor": 2
}
