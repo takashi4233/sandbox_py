{
 "cells": [
  {
   "cell_type": "code",
   "execution_count": 2,
   "metadata": {},
   "outputs": [],
   "source": [
    "import numpy as np\n",
    "import scipy as sp\n",
    "import pandas as pd\n",
    "from pandas import Series,DataFrame\n",
    "\n",
    "import matplotlib.pyplot as plt\n",
    "import matplotlib as mpl\n",
    "import seaborn as sns\n",
    "sns.set()\n",
    "%matplotlib inline\n",
    "%precision 3\n",
    "\n",
    "from sklearn import linear_model"
   ]
  },
  {
   "cell_type": "code",
   "execution_count": 4,
   "metadata": {},
   "outputs": [],
   "source": [
    "np.random.seed(0)"
   ]
  },
  {
   "cell_type": "code",
   "execution_count": 8,
   "metadata": {},
   "outputs": [
    {
     "data": {
      "text/plain": [
       "array([1, 2, 3, 4, 5, 6])"
      ]
     },
     "execution_count": 8,
     "metadata": {},
     "output_type": "execute_result"
    }
   ],
   "source": [
    "dice_data= np.array([1,2,3,4,5,6])\n",
    "dice_data"
   ]
  },
  {
   "cell_type": "code",
   "execution_count": 13,
   "metadata": {},
   "outputs": [
    {
     "name": "stdout",
     "output_type": "stream",
     "text": [
      "１つだけランダムに抽出： [2 4 6]\n"
     ]
    }
   ],
   "source": [
    "#np.random.choice(np-array,times)\n",
    "print(\"１つだけランダムに抽出：\",np.random.choice(dice_data,1))"
   ]
  },
  {
   "cell_type": "code",
   "execution_count": 18,
   "metadata": {},
   "outputs": [
    {
     "name": "stdout",
     "output_type": "stream",
     "text": [
      "1 が出る確率 0.16451\n",
      "2 が出る確率 0.16597\n",
      "3 が出る確率 0.16579\n",
      "4 が出る確率 0.16864\n",
      "5 が出る確率 0.16897\n",
      "6 が出る確率 0.16612\n"
     ]
    }
   ],
   "source": [
    "calc_steps = 100000\n",
    "dice_rolls = np.random.choice(dice_data,calc_steps)\n",
    "for i in range(1,7):\n",
    "    p = len(dice_rolls[dice_rolls == i])/calc_steps\n",
    "    print(i,'が出る確率',p)\n"
   ]
  },
  {
   "cell_type": "code",
   "execution_count": 21,
   "metadata": {},
   "outputs": [
    {
     "name": "stdout",
     "output_type": "stream",
     "text": [
      "0 が出る確率 49823\n",
      "1 が出る確率 50177\n"
     ]
    }
   ],
   "source": [
    "coin_data = np.array([0,1])\n",
    "coin_rolls = np.random.choice(coin_data,calc_steps)\n",
    "for i in range(0,2):\n",
    "    p = len(coin_rolls[coin_rolls ==i]/calc_steps)\n",
    "    print(i,'が出る確率',p)"
   ]
  },
  {
   "cell_type": "code",
   "execution_count": 29,
   "metadata": {},
   "outputs": [
    {
     "data": {
      "image/png": "[encoded data removed]",
      "text/plain": [
       "<Figure size 432x288 with 1 Axes>"
      ]
     },
     "metadata": {
      "needs_background": "light"
     },
     "output_type": "display_data"
    }
   ],
   "source": [
    "calc_steps = 1000\n",
    "dice_rolls = np.random.choice(dice_data,calc_steps)\n",
    "prob_data = np.array([])\n",
    "for i in range(1,7):\n",
    "    p = len(dice_rolls[dice_rolls == i])/calc_steps\n",
    "    prob_data = np.append(prob_data,p)\n",
    "plt.bar(dice_data,prob_data)\n",
    "plt.grid(True)"
   ]
  },
  {
   "cell_type": "code",
   "execution_count": 35,
   "metadata": {},
   "outputs": [
    {
     "name": "stdout",
     "output_type": "stream",
     "text": [
      "0 がでる確率 0.625\n",
      "1 がでる確率 0.375\n"
     ]
    },
    {
     "data": {
      "image/png": "[encoded data removed]",
      "text/plain": [
       "<Figure size 432x288 with 1 Axes>"
      ]
     },
     "metadata": {
      "needs_background": "light"
     },
     "output_type": "display_data"
    }
   ],
   "source": [
    "prob_be_data = np.array([])\n",
    "coin_data = np.array([0,0,0,0,0,1,1,1])\n",
    "\n",
    "for i in np.unique(coin_data):\n",
    "    p = len (coin_data[coin_data == i])/len(coin_data)\n",
    "    print(i,'がでる確率',p)\n",
    "    prob_be_data = np.append(prob_be_data,p)\n",
    "plt.bar(np.unique(coin_data),prob_be_data,align='center')\n",
    "plt.xticks(np.unique(coin_data),['head','tail'])\n",
    "plt.grid(True)"
   ]
  },
  {
   "cell_type": "code",
   "execution_count": 37,
   "metadata": {},
   "outputs": [
    {
     "data": {
      "text/plain": [
       "array([0, 1])"
      ]
     },
     "execution_count": 37,
     "metadata": {},
     "output_type": "execute_result"
    }
   ],
   "source": [
    "np.unique(coin_data)"
   ]
  },
  {
   "cell_type": "code",
   "execution_count": 39,
   "metadata": {},
   "outputs": [
    {
     "data": {
      "image/png": "[encoded data removed]",
      "text/plain": [
       "<Figure size 432x288 with 1 Axes>"
      ]
     },
     "metadata": {
      "needs_background": "light"
     },
     "output_type": "display_data"
    }
   ],
   "source": [
    "#二項分布\n",
    "np.random.seed(0)\n",
    "x = np.random.binomial(30,0.5,1000)\n",
    "plt.hist(x)\n",
    "plt.grid(True)"
   ]
  },
  {
   "cell_type": "code",
   "execution_count": 41,
   "metadata": {},
   "outputs": [
    {
     "data": {
      "image/png": "[encoded data removed]",
      "text/plain": [
       "<Figure size 432x288 with 1 Axes>"
      ]
     },
     "metadata": {
      "needs_background": "light"
     },
     "output_type": "display_data"
    }
   ],
   "source": [
    "#ポアソン分布\n",
    "x = np.random.poisson(7,1000)\n",
    "plt.hist(x)\n",
    "plt.grid(True)"
   ]
  },
  {
   "cell_type": "code",
   "execution_count": 43,
   "metadata": {},
   "outputs": [
    {
     "data": {
      "image/png": "[encoded data removed]",
      "text/plain": [
       "<Figure size 432x288 with 1 Axes>"
      ]
     },
     "metadata": {
      "needs_background": "light"
     },
     "output_type": "display_data"
    }
   ],
   "source": [
    "#正規分布（ガウス分布）\n",
    "x = np.random.normal(5,10,10000)\n",
    "plt.hist(x)\n",
    "plt.grid(True)"
   ]
  },
  {
   "cell_type": "code",
   "execution_count": 44,
   "metadata": {},
   "outputs": [
    {
     "data": {
      "image/png": "[encoded data removed]",
      "text/plain": [
       "<Figure size 432x288 with 1 Axes>"
      ]
     },
     "metadata": {
      "needs_background": "light"
     },
     "output_type": "display_data"
    }
   ],
   "source": [
    "#対数正規分布\n",
    "x = np.random.lognormal(30,0.4,1000)\n",
    "plt.hist(x)\n",
    "plt.grid(True)"
   ]
  }
 ],
 "metadata": {
  "kernelspec": {
   "display_name": "Python 3",
   "language": "python",
   "name": "python3"
  },
  "language_info": {
   "codemirror_mode": {
    "name": "ipython",
    "version": 3
   },
   "file_extension": ".py",
   "mimetype": "text/x-python",
   "name": "python",
   "nbconvert_exporter": "python",
   "pygments_lexer": "ipython3",
   "version": "3.7.4"
  }
 },
 "nbformat": 4,
 "nbformat_minor": 2
}
