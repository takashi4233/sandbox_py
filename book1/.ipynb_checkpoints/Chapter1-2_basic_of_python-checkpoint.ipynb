{
 "cells": [
  {
   "cell_type": "code",
   "execution_count": 37,
   "metadata": {},
   "outputs": [
    {
     "name": "stdout",
     "output_type": "stream",
     "text": [
      "[1, 2, 3, 4, 5, 6, 7, 8, 9, 10]\n",
      "<class 'list'>\n",
      "2番目の値：2\n",
      "要素数：10\n"
     ]
    }
   ],
   "source": [
    "data_list = [1,2,3,4,5,6,7,8,9,10]\n",
    "print (data_list)\n",
    "\n",
    "print (type(data_list))\n",
    "\n",
    "print (f\"2番目の値：{data_list[1]}\")\n",
    "\n",
    "print (f\"要素数：{len(data_list)}\")"
   ]
  },
  {
   "cell_type": "code",
   "execution_count": 25,
   "metadata": {},
   "outputs": [
    {
     "name": "stdout",
     "output_type": "stream",
     "text": [
      "[1, 2, 3, 4, 5, 6, 7, 8, 9, 10, 1, 2, 3, 4, 5, 6, 7, 8, 9, 10]\n"
     ]
    }
   ],
   "source": [
    "#リストを2倍しても、リストが2回表示されるだけ\n",
    "print (f\"{data_list * 2}\")"
   ]
  },
  {
   "cell_type": "code",
   "execution_count": 46,
   "metadata": {},
   "outputs": [
    {
     "name": "stdout",
     "output_type": "stream",
     "text": [
      "[1, 2, 3, 4, 5, 6, 7, 8, 9, 10, 11]\n",
      "[1, 2, 3, 4, 5, 6, 7, 8, 9, 10, 11, 12, 13]\n",
      "1\n",
      "[2, 3, 4, 5, 6, 7, 8, 9, 10, 11, 12, 13]\n",
      "[3, 4, 5, 6, 7, 8, 9, 10, 11, 12, 13]\n",
      "[4, 5, 6, 7, 8, 9, 10, 11, 12, 13]\n",
      "[4, 5, 6, 7, 8, 9, 10, 11, 12, 13, 11, 12, 13]\n",
      "[4, 5, 6, 7, 8, 9, 10, 12, 13, 11, 12, 13]\n"
     ]
    },
    {
     "ename": "ValueError",
     "evalue": "list.remove(x): x not in list",
     "output_type": "error",
     "traceback": [
      "\u001b[0;31m---------------------------------------------------------------------------\u001b[0m",
      "\u001b[0;31mValueError\u001b[0m                                Traceback (most recent call last)",
      "\u001b[0;32m<ipython-input-46-35fd1ac2c93f>\u001b[0m in \u001b[0;36m<module>\u001b[0;34m\u001b[0m\n\u001b[1;32m     27\u001b[0m \u001b[0mprint\u001b[0m \u001b[0;34m(\u001b[0m\u001b[0;34mf\"{data_list}\"\u001b[0m\u001b[0;34m)\u001b[0m\u001b[0;34m\u001b[0m\u001b[0;34m\u001b[0m\u001b[0m\n\u001b[1;32m     28\u001b[0m \u001b[0;34m\u001b[0m\u001b[0m\n\u001b[0;32m---> 29\u001b[0;31m \u001b[0mdata_list\u001b[0m\u001b[0;34m.\u001b[0m\u001b[0mremove\u001b[0m\u001b[0;34m(\u001b[0m\u001b[0;34m(\u001b[0m\u001b[0;36m12\u001b[0m\u001b[0;34m,\u001b[0m\u001b[0;36m13\u001b[0m\u001b[0;34m)\u001b[0m\u001b[0;34m)\u001b[0m\u001b[0;34m\u001b[0m\u001b[0;34m\u001b[0m\u001b[0m\n\u001b[0m\u001b[1;32m     30\u001b[0m \u001b[0mprint\u001b[0m \u001b[0;34m(\u001b[0m\u001b[0;34mf\"{data_list}\"\u001b[0m\u001b[0;34m)\u001b[0m\u001b[0;34m\u001b[0m\u001b[0;34m\u001b[0m\u001b[0m\n",
      "\u001b[0;31mValueError\u001b[0m: list.remove(x): x not in list"
     ]
    }
   ],
   "source": [
    "#リストへの追加はappend\n",
    "data_list = [1,2,3,4,5,6,7,8,9,10]\n",
    "data_list.append(11)\n",
    "print (f\"{data_list}\")\n",
    "\n",
    "#リストへリスト形式で結合する場合は\n",
    "data_list += [12,13]\n",
    "print (f\"{data_list}\")\n",
    "\n",
    "# pop(x)のxはindex, 削除した値を返り値に設定される\n",
    "print (f\"{data_list.pop(0)}\")\n",
    "print (f\"{data_list}\")\n",
    "\n",
    "# delはindexで削除する\n",
    "del data_list[0]\n",
    "print (f\"{data_list}\")\n",
    "\n",
    "\n",
    "# remove(x)のxは値、指定した値をリストから削除する\n",
    "data_list.remove(3)\n",
    "print (f\"{data_list}\")\n",
    "data_list += [11,12,13]\n",
    "print (f\"{data_list}\")\n",
    "\n",
    "#リスト内にある、指定した値を１つ削除する\n",
    "data_list.remove(11)\n",
    "print (f\"{data_list}\")\n"
   ]
  },
  {
   "cell_type": "code",
   "execution_count": 3,
   "metadata": {},
   "outputs": [
    {
     "data": {
      "text/plain": [
       "[1, 2, 3, 4, 5, 6, 7, 8, 9, 10, 12, 13, 12, 13]"
      ]
     },
     "execution_count": 3,
     "metadata": {},
     "output_type": "execute_result"
    }
   ],
   "source": [
    "data_list = [1,2,3,4,5,6,7,8,9,10]\n",
    "data_list += [11,12,13]\n",
    "data_list += [11,12,13]\n",
    "\n",
    "#　指定した全ての要素を削除したい場合は、while文で対応する\n",
    "while 11 in data_list:\n",
    "    data_list.remove(11)\n",
    "\n",
    "data_list"
   ]
  }
 ],
 "metadata": {
  "kernelspec": {
   "display_name": "Python 3",
   "language": "python",
   "name": "python3"
  },
  "language_info": {
   "codemirror_mode": {
    "name": "ipython",
    "version": 3
   },
   "file_extension": ".py",
   "mimetype": "text/x-python",
   "name": "python",
   "nbconvert_exporter": "python",
   "pygments_lexer": "ipython3",
   "version": "3.7.4"
  }
 },
 "nbformat": 4,
 "nbformat_minor": 2
}
