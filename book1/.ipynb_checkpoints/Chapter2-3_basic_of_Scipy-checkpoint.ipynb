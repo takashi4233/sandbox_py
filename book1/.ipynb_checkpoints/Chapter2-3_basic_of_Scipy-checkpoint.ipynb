{
 "cells": [
  {
   "cell_type": "code",
   "execution_count": null,
   "metadata": {},
   "outputs": [],
   "source": [
    "Scipyの基礎 P45"
   ]
  },
  {
   "cell_type": "code",
   "execution_count": 32,
   "metadata": {},
   "outputs": [
    {
     "data": {
      "text/plain": [
       "'%.3f'"
      ]
     },
     "execution_count": 32,
     "metadata": {},
     "output_type": "execute_result"
    }
   ],
   "source": [
    "# 線形代数のライブラリ\n",
    "import scipy.linalg as linalg\n",
    "# 最適化計算（最小値）用の関数\n",
    "from scipy.optimize import minimize_scalar\n",
    "\n",
    "import numpy as np\n",
    "%precision 3"
   ]
  },
  {
   "cell_type": "code",
   "execution_count": 9,
   "metadata": {},
   "outputs": [
    {
     "name": "stdout",
     "output_type": "stream",
     "text": [
      "[[ 1 -1 -1]\n",
      " [-1  1 -1]\n",
      " [-1 -1  1]]\n",
      "-4.0\n",
      "[[-4.  4.  4.]\n",
      " [ 4. -4.  4.]\n",
      " [ 4.  4. -4.]]\n"
     ]
    }
   ],
   "source": [
    "matrix = np.array([[1,-1,-1],[-1,1,-1],[-1,-1,1]])\n",
    "print (matrix)\n",
    "print (linalg.det(matrix))\n",
    "\n",
    "print (np.dot(matrix,linalg.det(matrix)))"
   ]
  },
  {
   "cell_type": "code",
   "execution_count": 19,
   "metadata": {},
   "outputs": [
    {
     "name": "stdout",
     "output_type": "stream",
     "text": [
      "[[4 2 3]\n",
      " [2 1 1]\n",
      " [3 2 3]]\n",
      "1.0\n"
     ]
    }
   ],
   "source": [
    "matrix2 = np.array([[4,2,3],[2,1,1],[3,2,3]])\n",
    "print (matrix2)\n",
    "matrix3 = linalg.det(matrix2)\n",
    "print (matrix3)"
   ]
  },
  {
   "cell_type": "code",
   "execution_count": 25,
   "metadata": {},
   "outputs": [
    {
     "name": "stdout",
     "output_type": "stream",
     "text": [
      "[[ 1.  0. -1.]\n",
      " [-3.  3.  2.]\n",
      " [ 1. -2.  0.]]\n",
      "[[1. 0. 0.]\n",
      " [0. 1. 0.]\n",
      " [0. 0. 1.]]\n"
     ]
    }
   ],
   "source": [
    "# 逆行列を計算する\n",
    "matrix2Inv = linalg.inv(matrix2)\n",
    "print (matrix2Inv)\n",
    "# 逆行列をかけると単位行列になる\n",
    "print (np.dot(matrix2,matrix2Inv))"
   ]
  },
  {
   "cell_type": "code",
   "execution_count": 39,
   "metadata": {},
   "outputs": [
    {
     "name": "stdout",
     "output_type": "stream",
     "text": [
      "固有値:\n",
      "[7.483+0.j    0.258+0.259j 0.258-0.259j]\n",
      "固有ベクトル:\n",
      "[[-0.717+0.j    -0.046+0.268j -0.046-0.268j]\n",
      " [-0.317+0.j     0.765+0.j     0.765-0.j   ]\n",
      " [-0.621+0.j    -0.476-0.338j -0.476+0.338j]]\n"
     ]
    }
   ],
   "source": [
    "eig_value,eig_vector = linalg.eig(matrix2)\n",
    "print (f'固有値:')\n",
    "print (eig_value)\n",
    "print (f\"固有ベクトル:\")\n",
    "print (eig_vector)"
   ]
  },
  {
   "cell_type": "code",
   "execution_count": null,
   "metadata": {},
   "outputs": [],
   "source": []
  }
 ],
 "metadata": {
  "kernelspec": {
   "display_name": "Python 3",
   "language": "python",
   "name": "python3"
  },
  "language_info": {
   "codemirror_mode": {
    "name": "ipython",
    "version": 3
   },
   "file_extension": ".py",
   "mimetype": "text/x-python",
   "name": "python",
   "nbconvert_exporter": "python",
   "pygments_lexer": "ipython3",
   "version": "3.7.4"
  }
 },
 "nbformat": 4,
 "nbformat_minor": 2
}
