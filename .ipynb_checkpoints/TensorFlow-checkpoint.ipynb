{
 "cells": [
  {
   "cell_type": "code",
   "execution_count": 7,
   "metadata": {},
   "outputs": [
    {
     "name": "stdout",
     "output_type": "stream",
     "text": [
      "1回目[c,a] =[3, 3]\n",
      "2回目[c,a] =[5, 5]\n"
     ]
    }
   ],
   "source": [
    "import tensorflow as tf\n",
    "a = tf.Variable(1,name='a')#変数\n",
    "b = tf.constant(2,name='b')#定数\n",
    "c = tf.assign(a,a+b)# a=a+b;return a;の意味\n",
    "\n",
    "with tf.Session() as sess:\n",
    "    # すべての変数を一括で初期化する\n",
    "    sess.run(tf.global_variables_initializer())\n",
    "    print (f\"1回目[c,a] ={sess.run([c,a])}\")\n",
    "    print (f\"2回目[c,a] ={sess.run([c,a])}\")"
   ]
  },
  {
   "cell_type": "code",
   "execution_count": 11,
   "metadata": {},
   "outputs": [
    {
     "name": "stdout",
     "output_type": "stream",
     "text": [
      "a+b= 2\n"
     ]
    }
   ],
   "source": [
    "a = tf.placeholder(dtype=tf.int32,name='a') # 様々な値を受け付けられる「箱」\n",
    "b = tf.constant(1,name='b')\n",
    "c = a+b\n",
    "\n",
    "with tf.Session() as sess:\n",
    "    print('a+b=',sess.run(c,feed_dict={a:1}))\n",
    "    "
   ]
  },
  {
   "cell_type": "code",
   "execution_count": 16,
   "metadata": {},
   "outputs": [
    {
     "name": "stdout",
     "output_type": "stream",
     "text": [
      "a =  2\n",
      "b =  3\n",
      "a + b = 5\n",
      "a * b = 6\n"
     ]
    }
   ],
   "source": [
    "a = tf.constant(2,name='a')\n",
    "b = tf.constant(3,name='b')\n",
    "c = tf.add(a,b)\n",
    "d = tf.multiply(a,b)\n",
    "\n",
    "with tf.Session() as sess:\n",
    "    print ('a = ',sess.run(a))\n",
    "    print ('b = ',sess.run(b))\n",
    "\n",
    "    print ('a + b =',sess.run(c))\n",
    "    print ('a * b =',sess.run(d))"
   ]
  },
  {
   "cell_type": "code",
   "execution_count": 19,
   "metadata": {},
   "outputs": [
    {
     "name": "stdout",
     "output_type": "stream",
     "text": [
      "a + b =  [5 7 9]\n"
     ]
    }
   ],
   "source": [
    "a = tf.constant([1,2,3],name='a')\n",
    "b = tf.constant([4,5,6],name='b')\n",
    "c = a + b\n",
    "d = tf.add(a,b)\n",
    "with tf.Session() as sess:\n",
    "    print ('a + b = ',sess.run(d))"
   ]
  },
  {
   "cell_type": "code",
   "execution_count": 21,
   "metadata": {},
   "outputs": [
    {
     "name": "stdout",
     "output_type": "stream",
     "text": [
      "shape of a: (2, 2)\n",
      "shape of b: (2, 1)\n",
      "shape of c: (2, 1)\n",
      "a = \n",
      " [[1 2]\n",
      " [3 4]]\n",
      "b = \n",
      " [[1]\n",
      " [2]]\n",
      "c = \n",
      " [[ 5]\n",
      " [11]]\n"
     ]
    }
   ],
   "source": [
    "a = tf.constant([[1,2],[3,4]],name='a')\n",
    "b = tf.constant([[1],[2]],name = 'b')\n",
    "c = tf.matmul(a,b)#行列の掛け算\n",
    "\n",
    "print ('shape of a:',a.shape)\n",
    "print ('shape of b:',b.shape)\n",
    "print ('shape of c:',c.shape)\n",
    "\n",
    "with tf.Session() as sess:\n",
    "    print ('a = \\n',sess.run(a))\n",
    "    print ('b = \\n',sess.run(b))\n",
    "    print ('c = \\n',sess.run(c))"
   ]
  },
  {
   "cell_type": "code",
   "execution_count": 30,
   "metadata": {},
   "outputs": [
    {
     "name": "stdout",
     "output_type": "stream",
     "text": [
      "a = [[1 2]]\n",
      "a = [[1 2]\n",
      " [3 4]]\n"
     ]
    }
   ],
   "source": [
    "a = tf.placeholder(shape=(None,2),dtype=tf.int32,name='a')\n",
    "\n",
    "with tf.Session()as sess:\n",
    "    print(\"a =\",sess.run(a,feed_dict={a:[[1,2]]}))\n",
    "    print(\"a =\",sess.run(a,feed_dict={a:[[1,2],[3,4]]}))\n",
    "\n",
    "    "
   ]
  },
  {
   "cell_type": "code",
   "execution_count": 37,
   "metadata": {},
   "outputs": [
    {
     "name": "stdout",
     "output_type": "stream",
     "text": [
      "b =  2\n",
      "b =  3\n",
      "b =  2\n",
      "b =  3\n"
     ]
    }
   ],
   "source": [
    "a = tf.Variable(1,name='a')\n",
    "b = tf.assign(a,a+1)\n",
    "\n",
    "with tf.Session() as sess:\n",
    "    sess.run(tf.global_variables_initializer())\n",
    "    print ('b = ',sess.run(b))\n",
    "    print ('b = ',sess.run(b))\n",
    "\n",
    "#sessionをまたぐと変数は初期化される\n",
    "with tf.Session() as sess:\n",
    "    sess.run(tf.global_variables_initializer())\n",
    "    print ('b = ',sess.run(b))\n",
    "    print ('b = ',sess.run(b))\n",
    "\n",
    "    \n",
    "    "
   ]
  },
  {
   "cell_type": "code",
   "execution_count": 35,
   "metadata": {},
   "outputs": [
    {
     "name": "stdout",
     "output_type": "stream",
     "text": [
      "b =  2\n",
      "b =  3\n",
      "WARNING:tensorflow:From /usr/local/lib/python3.7/site-packages/tensorflow/python/training/saver.py:1266: checkpoint_exists (from tensorflow.python.training.checkpoint_management) is deprecated and will be removed in a future version.\n",
      "Instructions for updating:\n",
      "Use standard file APIs to check for files with this prefix.\n",
      "INFO:tensorflow:Restoring parameters from model/model.ckpt\n",
      "b =  4\n",
      "b =  5\n"
     ]
    }
   ],
   "source": [
    "a = tf.Variable(1,name='a')\n",
    "b = tf.assign(a,a+1)\n",
    "\n",
    "#学習パラメータを保存しておく\n",
    "saver = tf.train.Saver()\n",
    "\n",
    "with tf.Session() as sess:\n",
    "    sess.run(tf.global_variables_initializer())\n",
    "    print ('b = ',sess.run(b))\n",
    "    print ('b = ',sess.run(b))\n",
    "    saver.save(sess,'model/model.ckpt')\n",
    "saver = tf.train.Saver()\n",
    "\n",
    "with tf.Session() as sess:\n",
    "    sess.run(tf.global_variables_initializer())\n",
    "    saver.restore(sess,save_path='model/model.ckpt')\n",
    "    print ('b = ',sess.run(b))\n",
    "    print ('b = ',sess.run(b))\n"
   ]
  }
 ],
 "metadata": {
  "kernelspec": {
   "display_name": "Python 3",
   "language": "python",
   "name": "python3"
  },
  "language_info": {
   "codemirror_mode": {
    "name": "ipython",
    "version": 3
   },
   "file_extension": ".py",
   "mimetype": "text/x-python",
   "name": "python",
   "nbconvert_exporter": "python",
   "pygments_lexer": "ipython3",
   "version": "3.7.4"
  }
 },
 "nbformat": 4,
 "nbformat_minor": 2
}
