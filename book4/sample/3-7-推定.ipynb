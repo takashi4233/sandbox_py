{
 "cells": [
  {
   "cell_type": "markdown",
   "metadata": {},
   "source": [
    "# 第3部　Pythonによるデータ分析｜Pythonで学ぶ統計学入門\n",
    "\n",
    "## 7章　推定"
   ]
  },
  {
   "cell_type": "markdown",
   "metadata": {},
   "source": [
    "### 分析の準備"
   ]
  },
  {
   "cell_type": "code",
   "execution_count": 1,
   "metadata": {
    "collapsed": true
   },
   "outputs": [],
   "source": [
    "# 数値計算に使うライブラリ\n",
    "import numpy as np\n",
    "import pandas as pd\n",
    "import scipy as sp\n",
    "from scipy import stats\n",
    "\n",
    "# グラフを描画するライブラリ\n",
    "from matplotlib import pyplot as plt\n",
    "import seaborn as sns\n",
    "sns.set()\n",
    "\n",
    "# 表示桁数の指定\n",
    "%precision 3\n",
    "# グラフをjupyter Notebook内に表示させるための指定\n",
    "%matplotlib inline"
   ]
  },
  {
   "cell_type": "code",
   "execution_count": 2,
   "metadata": {},
   "outputs": [
    {
     "data": {
      "text/plain": [
       "0    4.352982\n",
       "1    3.735304\n",
       "2    5.944617\n",
       "3    3.798326\n",
       "4    4.087688\n",
       "5    5.265985\n",
       "6    3.272614\n",
       "7    3.526691\n",
       "8    4.150083\n",
       "9    3.736104\n",
       "Name: length, dtype: float64"
      ]
     },
     "execution_count": 2,
     "metadata": {},
     "output_type": "execute_result"
    }
   ],
   "source": [
    "# データの読み込み\n",
    "fish = pd.read_csv(\"3-7-1-fish_length.csv\")[\"length\"]\n",
    "fish"
   ]
  },
  {
   "cell_type": "markdown",
   "metadata": {},
   "source": [
    "### 実装：点推定"
   ]
  },
  {
   "cell_type": "code",
   "execution_count": 3,
   "metadata": {},
   "outputs": [
    {
     "data": {
      "text/plain": [
       "4.187"
      ]
     },
     "execution_count": 3,
     "metadata": {},
     "output_type": "execute_result"
    }
   ],
   "source": [
    "# 母平均の点推定\n",
    "mu = sp.mean(fish)\n",
    "mu"
   ]
  },
  {
   "cell_type": "code",
   "execution_count": 4,
   "metadata": {},
   "outputs": [
    {
     "data": {
      "text/plain": [
       "0.680"
      ]
     },
     "execution_count": 4,
     "metadata": {},
     "output_type": "execute_result"
    }
   ],
   "source": [
    "# 母分散の点推定\n",
    "sigma_2 = sp.var(fish, ddof = 1)\n",
    "sigma_2"
   ]
  },
  {
   "cell_type": "markdown",
   "metadata": {},
   "source": [
    "### 実装：区間推定"
   ]
  },
  {
   "cell_type": "code",
   "execution_count": 6,
   "metadata": {},
   "outputs": [
    {
     "data": {
      "text/plain": [
       "9"
      ]
     },
     "execution_count": 6,
     "metadata": {},
     "output_type": "execute_result"
    }
   ],
   "source": [
    "# 自由度\n",
    "df = len(fish) - 1\n",
    "df"
   ]
  },
  {
   "cell_type": "code",
   "execution_count": 7,
   "metadata": {},
   "outputs": [
    {
     "data": {
      "text/plain": [
       "0.261"
      ]
     },
     "execution_count": 7,
     "metadata": {},
     "output_type": "execute_result"
    }
   ],
   "source": [
    "# 標準誤差\n",
    "se = sigma / sp.sqrt(len(fish))\n",
    "se"
   ]
  },
  {
   "cell_type": "code",
   "execution_count": 8,
   "metadata": {},
   "outputs": [
    {
     "data": {
      "text/plain": [
       "(3.597, 4.777)"
      ]
     },
     "execution_count": 8,
     "metadata": {},
     "output_type": "execute_result"
    }
   ],
   "source": [
    "# 区間推定\n",
    "interval = stats.t.interval(\n",
    "    alpha = 0.95, df = df, loc = mu, scale = se)\n",
    "interval"
   ]
  },
  {
   "cell_type": "markdown",
   "metadata": {},
   "source": [
    "### 補足：信頼区間の求め方の詳細"
   ]
  },
  {
   "cell_type": "code",
   "execution_count": 9,
   "metadata": {},
   "outputs": [
    {
     "data": {
      "text/plain": [
       "2.262"
      ]
     },
     "execution_count": 9,
     "metadata": {},
     "output_type": "execute_result"
    }
   ],
   "source": [
    "# 97.5%点\n",
    "t_975 = stats.t.ppf(q = 0.975, df = df)\n",
    "t_975"
   ]
  },
  {
   "cell_type": "code",
   "execution_count": 10,
   "metadata": {},
   "outputs": [
    {
     "data": {
      "text/plain": [
       "3.597"
      ]
     },
     "execution_count": 10,
     "metadata": {},
     "output_type": "execute_result"
    }
   ],
   "source": [
    "# 下側信頼限界\n",
    "lower = mu - t_975 * se\n",
    "lower"
   ]
  },
  {
   "cell_type": "code",
   "execution_count": 11,
   "metadata": {},
   "outputs": [
    {
     "data": {
      "text/plain": [
       "4.777"
      ]
     },
     "execution_count": 11,
     "metadata": {},
     "output_type": "execute_result"
    }
   ],
   "source": [
    "# 上側信頼限界\n",
    "upper = mu + t_975 * se\n",
    "upper"
   ]
  },
  {
   "cell_type": "markdown",
   "metadata": {},
   "source": [
    "### 信頼区間の幅を決める要素"
   ]
  },
  {
   "cell_type": "code",
   "execution_count": 12,
   "metadata": {},
   "outputs": [
    {
     "data": {
      "text/plain": [
       "(-1.713, 10.087)"
      ]
     },
     "execution_count": 12,
     "metadata": {},
     "output_type": "execute_result"
    }
   ],
   "source": [
    "# 標本標準偏差が大きいと、信頼区間は広くなる\n",
    "se2 = (sigma*10) / sp.sqrt(len(fish))\n",
    "stats.t.interval(\n",
    "    alpha = 0.95, df = df, loc = mu, scale = se2)"
   ]
  },
  {
   "cell_type": "code",
   "execution_count": 13,
   "metadata": {},
   "outputs": [
    {
     "data": {
      "text/plain": [
       "(4.023, 4.351)"
      ]
     },
     "execution_count": 13,
     "metadata": {},
     "output_type": "execute_result"
    }
   ],
   "source": [
    "# サンプルサイズが大きいと、信頼区間は狭くなる\n",
    "df2 = (len(fish)*10) - 1\n",
    "se3 = sigma / sp.sqrt(len(fish)*10)\n",
    "stats.t.interval(\n",
    "    alpha = 0.95, df = df2, loc = mu, scale = se3)"
   ]
  },
  {
   "cell_type": "code",
   "execution_count": 14,
   "metadata": {},
   "outputs": [
    {
     "data": {
      "text/plain": [
       "(3.339, 5.035)"
      ]
     },
     "execution_count": 14,
     "metadata": {},
     "output_type": "execute_result"
    }
   ],
   "source": [
    "# 99%信頼区間\n",
    "stats.t.interval(\n",
    "    alpha = 0.99, df = df, loc = mu, scale = se)"
   ]
  },
  {
   "cell_type": "markdown",
   "metadata": {},
   "source": [
    "### 信頼区間の解釈"
   ]
  },
  {
   "cell_type": "code",
   "execution_count": 19,
   "metadata": {
    "scrolled": true
   },
   "outputs": [
    {
     "data": {
      "text/plain": [
       "array([False, False, False, ..., False, False, False], dtype=bool)"
      ]
     },
     "execution_count": 19,
     "metadata": {},
     "output_type": "execute_result"
    }
   ],
   "source": [
    "# 信頼区間が母平均(4)を含んでいればTrue\n",
    "be_included_array = np.zeros(20000, dtype = \"bool\")\n",
    "be_included_array"
   ]
  },
  {
   "cell_type": "code",
   "execution_count": 20,
   "metadata": {
    "collapsed": true
   },
   "outputs": [],
   "source": [
    "# 「データを10個選んで95%信頼区間を求める」試行を20000回繰り返す\n",
    "# 信頼区間が母平均(4)を含んでいればTrue\n",
    "np.random.seed(1)\n",
    "norm_dist = stats.norm(loc = 4, scale = 0.8)\n",
    "for i in range(0, 20000):\n",
    "    sample = norm_dist.rvs(size = 10)\n",
    "    df = len(sample) - 1\n",
    "    mu = sp.mean(sample)\n",
    "    std = sp.std(sample, ddof = 1)\n",
    "    se = std / sp.sqrt(len(sample))\n",
    "    interval = stats.t.interval(0.95, df, mu, se)\n",
    "    if(interval[0] <= 4 and interval[1] >= 4):\n",
    "        be_included_array[i] = True"
   ]
  },
  {
   "cell_type": "code",
   "execution_count": 21,
   "metadata": {},
   "outputs": [
    {
     "data": {
      "text/plain": [
       "0.948"
      ]
     },
     "execution_count": 21,
     "metadata": {},
     "output_type": "execute_result"
    }
   ],
   "source": [
    "sum(be_included_array) / len(be_included_array)"
   ]
  },
  {
   "cell_type": "code",
   "execution_count": null,
   "metadata": {
    "collapsed": true
   },
   "outputs": [],
   "source": []
  }
 ],
 "metadata": {
  "kernelspec": {
   "display_name": "Python 3",
   "language": "python",
   "name": "python3"
  },
  "language_info": {
   "codemirror_mode": {
    "name": "ipython",
    "version": 3
   },
   "file_extension": ".py",
   "mimetype": "text/x-python",
   "name": "python",
   "nbconvert_exporter": "python",
   "pygments_lexer": "ipython3",
   "version": "3.6.2"
  }
 },
 "nbformat": 4,
 "nbformat_minor": 2
}
