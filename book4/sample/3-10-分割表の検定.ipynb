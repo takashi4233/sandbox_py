{
 "cells": [
  {
   "cell_type": "markdown",
   "metadata": {},
   "source": [
    "# 第3部　Pythonによるデータ分析｜Pythonで学ぶ統計学入門\n",
    "\n",
    "## 10章　分割表の検定"
   ]
  },
  {
   "cell_type": "markdown",
   "metadata": {},
   "source": [
    "### 実装：p値の計算"
   ]
  },
  {
   "cell_type": "code",
   "execution_count": 1,
   "metadata": {
    "collapsed": true
   },
   "outputs": [],
   "source": [
    "# 数値計算に使うライブラリ\n",
    "import numpy as np\n",
    "import pandas as pd\n",
    "import scipy as sp\n",
    "from scipy import stats\n",
    "\n",
    "# グラフを描画するライブラリ\n",
    "from matplotlib import pyplot as plt\n",
    "import seaborn as sns\n",
    "sns.set()\n",
    "\n",
    "# 表示桁数の指定\n",
    "%precision 3\n",
    "# グラフをjupyter Notebook内に表示させるための指定\n",
    "%matplotlib inline"
   ]
  },
  {
   "cell_type": "code",
   "execution_count": 2,
   "metadata": {},
   "outputs": [
    {
     "data": {
      "text/plain": [
       "0.010"
      ]
     },
     "execution_count": 2,
     "metadata": {},
     "output_type": "execute_result"
    }
   ],
   "source": [
    "# p値を求める\n",
    "1 - sp.stats.chi2.cdf(x = 6.667, df = 1)"
   ]
  },
  {
   "cell_type": "markdown",
   "metadata": {},
   "source": [
    "### 実装：分割表の検定"
   ]
  },
  {
   "cell_type": "code",
   "execution_count": 3,
   "metadata": {
    "scrolled": true
   },
   "outputs": [
    {
     "name": "stdout",
     "output_type": "stream",
     "text": [
      "  color  click  freq\n",
      "0  blue  click    20\n",
      "1  blue    not   230\n",
      "2   red  click    10\n",
      "3   red    not    40\n"
     ]
    }
   ],
   "source": [
    "# データの読み込み\n",
    "click_data = pd.read_csv(\"3-10-1-click_data.csv\")\n",
    "print(click_data)"
   ]
  },
  {
   "cell_type": "code",
   "execution_count": 4,
   "metadata": {},
   "outputs": [
    {
     "name": "stdout",
     "output_type": "stream",
     "text": [
      "click  click  not\n",
      "color            \n",
      "blue      20  230\n",
      "red       10   40\n"
     ]
    }
   ],
   "source": [
    "# 分割表形式に変換\n",
    "cross = pd.pivot_table(\n",
    "    data = click_data,\n",
    "    values = \"freq\",\n",
    "    aggfunc = \"sum\",\n",
    "    index = \"color\",\n",
    "    columns = \"click\"\n",
    ")\n",
    "print(cross)"
   ]
  },
  {
   "cell_type": "code",
   "execution_count": 5,
   "metadata": {},
   "outputs": [
    {
     "data": {
      "text/plain": [
       "(6.667, 0.010, 1, array([[  25.,  225.],\n",
       "        [   5.,   45.]]))"
      ]
     },
     "execution_count": 5,
     "metadata": {},
     "output_type": "execute_result"
    }
   ],
   "source": [
    "# 検定の実行\n",
    "sp.stats.chi2_contingency(cross, correction = False)"
   ]
  }
 ],
 "metadata": {
  "kernelspec": {
   "display_name": "Python 3",
   "language": "python",
   "name": "python3"
  },
  "language_info": {
   "codemirror_mode": {
    "name": "ipython",
    "version": 3
   },
   "file_extension": ".py",
   "mimetype": "text/x-python",
   "name": "python",
   "nbconvert_exporter": "python",
   "pygments_lexer": "ipython3",
   "version": "3.6.2"
  }
 },
 "nbformat": 4,
 "nbformat_minor": 2
}
