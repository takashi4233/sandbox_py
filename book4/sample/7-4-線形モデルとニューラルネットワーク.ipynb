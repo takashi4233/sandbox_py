{
 "cells": [
  {
   "cell_type": "markdown",
   "metadata": {},
   "source": [
    "# 第7部　正則化｜Pythonで学ぶ統計学入門\n",
    "\n",
    "## 4章　線形モデルとニューラルネットワーク"
   ]
  },
  {
   "cell_type": "markdown",
   "metadata": {},
   "source": [
    "### 分析の準備"
   ]
  },
  {
   "cell_type": "code",
   "execution_count": 2,
   "metadata": {},
   "outputs": [
    {
     "data": {
      "text/plain": [
       "'%.3f'"
      ]
     },
     "execution_count": 2,
     "metadata": {},
     "output_type": "execute_result"
    }
   ],
   "source": [
    "# 数値計算に使うライブラリ\n",
    "import numpy as np\n",
    "import pandas as pd\n",
    "import scipy as sp\n",
    "\n",
    "# 統計モデルを推定するライブラリ(ワーニングが出ることもあります)\n",
    "import statsmodels.formula.api as smf\n",
    "import statsmodels.api as sm\n",
    "\n",
    "# 多層パーセプトロンを適用\n",
    "from sklearn.neural_network import MLPClassifier\n",
    "\n",
    "# サンプルデータの読み込み\n",
    "from sklearn.datasets import load_iris\n",
    "\n",
    "# テストデータと訓練データに分ける\n",
    "from sklearn.model_selection import train_test_split\n",
    "\n",
    "# データの標準化を行う\n",
    "from sklearn.preprocessing import StandardScaler\n",
    "\n",
    "# 表示桁数の指定\n",
    "%precision 3"
   ]
  },
  {
   "cell_type": "markdown",
   "metadata": {},
   "source": [
    "### データの読み込みと整形"
   ]
  },
  {
   "cell_type": "code",
   "execution_count": 3,
   "metadata": {
    "collapsed": true,
    "scrolled": false
   },
   "outputs": [],
   "source": [
    "# サンプルデータの読み込み\n",
    "iris = load_iris()"
   ]
  },
  {
   "cell_type": "code",
   "execution_count": 4,
   "metadata": {},
   "outputs": [
    {
     "data": {
      "text/plain": [
       "['sepal length (cm)',\n",
       " 'sepal width (cm)',\n",
       " 'petal length (cm)',\n",
       " 'petal width (cm)']"
      ]
     },
     "execution_count": 4,
     "metadata": {},
     "output_type": "execute_result"
    }
   ],
   "source": [
    "# 説明変数の名称\n",
    "iris.feature_names"
   ]
  },
  {
   "cell_type": "code",
   "execution_count": 5,
   "metadata": {},
   "outputs": [
    {
     "data": {
      "text/plain": [
       "array(['setosa', 'versicolor', 'virginica'],\n",
       "      dtype='<U10')"
      ]
     },
     "execution_count": 5,
     "metadata": {},
     "output_type": "execute_result"
    }
   ],
   "source": [
    "# 応答変数の名称\n",
    "iris.target_names"
   ]
  },
  {
   "cell_type": "code",
   "execution_count": 6,
   "metadata": {},
   "outputs": [
    {
     "name": "stdout",
     "output_type": "stream",
     "text": [
      "説明変数の行数・列数： (100, 2)\n",
      "応答変数の行数・列数： (100,)\n"
     ]
    }
   ],
   "source": [
    "# 説明変数をsepal(ガク)だけにする\n",
    "X = iris.data[50:150, 0:2]\n",
    "# アヤメを2種類だけにする\n",
    "y = iris.target[50:150]\n",
    "\n",
    "print(\"説明変数の行数・列数：\", X.shape)\n",
    "print(\"応答変数の行数・列数：\", y.shape)"
   ]
  },
  {
   "cell_type": "code",
   "execution_count": 7,
   "metadata": {},
   "outputs": [
    {
     "name": "stdout",
     "output_type": "stream",
     "text": [
      "説明変数の行数・列数： (75, 2)\n",
      "応答変数の行数・列数： (75,)\n"
     ]
    }
   ],
   "source": [
    "# データを訓練データとテストデータに分ける\n",
    "X_train, X_test, y_train, y_test = train_test_split(\n",
    "    X, y, random_state = 2)\n",
    "\n",
    "print(\"説明変数の行数・列数：\", X_train.shape)\n",
    "print(\"応答変数の行数・列数：\", y_train.shape)"
   ]
  },
  {
   "cell_type": "markdown",
   "metadata": {},
   "source": [
    "### 実装：ロジスティック回帰"
   ]
  },
  {
   "cell_type": "code",
   "execution_count": 12,
   "metadata": {},
   "outputs": [
    {
     "data": {
      "text/plain": [
       "array([1, 1, 2, 2, 2, 2, 1, 1, 1, 1])"
      ]
     },
     "execution_count": 12,
     "metadata": {},
     "output_type": "execute_result"
    }
   ],
   "source": [
    "# 応答変数\n",
    "y_train[0:10]"
   ]
  },
  {
   "cell_type": "code",
   "execution_count": 8,
   "metadata": {},
   "outputs": [
    {
     "name": "stdout",
     "output_type": "stream",
     "text": [
      "   species  sepal_len  sepal_wid\n",
      "0        0        5.7        2.8\n",
      "1        0        6.6        3.0\n",
      "2        1        6.1        3.0\n"
     ]
    }
   ],
   "source": [
    "# データの整形\n",
    "# 説明変数のデータフレーム\n",
    "X_train_df = pd.DataFrame(\n",
    "    X_train, columns = [\"sepal_len\", \"sepal_wid\"])\n",
    "# 応答変数のデータフレーム\n",
    "y_train_df = pd.DataFrame({\"species\": y_train - 1})\n",
    "# データフレームを結合\n",
    "iris_train_df = pd.concat(\n",
    "    [y_train_df, X_train_df], axis=1)\n",
    "# 結果を出力\n",
    "print(iris_train_df.head(3))"
   ]
  },
  {
   "cell_type": "code",
   "execution_count": 17,
   "metadata": {},
   "outputs": [
    {
     "name": "stdout",
     "output_type": "stream",
     "text": [
      "full 76.813\n",
      "len  76.234\n",
      "wid  92.768\n",
      "null 105.318\n"
     ]
    }
   ],
   "source": [
    "# モデル化\n",
    "# すべての変数を入れたモデル\n",
    "logi_mod_full = smf.glm(\n",
    "    \"species ~ sepal_len + sepal_wid\", data = iris_train_df,\n",
    "    family=sm.families.Binomial()).fit()\n",
    "\n",
    "# 長さのみ\n",
    "logi_mod_len = smf.glm(\n",
    "    \"species ~ sepal_len\", data = iris_train_df,\n",
    "    family=sm.families.Binomial()).fit()\n",
    "\n",
    "# 幅のみ\n",
    "logi_mod_wid = smf.glm(\n",
    "    \"species ~ sepal_wid\", data = iris_train_df,\n",
    "    family=sm.families.Binomial()).fit()\n",
    "\n",
    "# Nullモデル\n",
    "logi_mod_null = smf.glm(\n",
    "    \"species ~ 1\", data = iris_train_df,\n",
    "    family=sm.families.Binomial()).fit()\n",
    "\n",
    "# AICの比較\n",
    "print(\"full\", logi_mod_full.aic.round(3))\n",
    "print(\"len \", logi_mod_len.aic.round(3))\n",
    "print(\"wid \", logi_mod_wid.aic.round(3))\n",
    "print(\"null\", logi_mod_null.aic.round(3))"
   ]
  },
  {
   "cell_type": "code",
   "execution_count": 18,
   "metadata": {},
   "outputs": [
    {
     "data": {
      "text/html": [
       "<table class=\"simpletable\">\n",
       "<tr>\n",
       "      <td></td>         <th>coef</th>     <th>std err</th>      <th>z</th>      <th>P>|z|</th>  <th>[0.025</th>    <th>0.975]</th>  \n",
       "</tr>\n",
       "<tr>\n",
       "  <th>Intercept</th> <td>  -16.4152</td> <td>    4.000</td> <td>   -4.104</td> <td> 0.000</td> <td>  -24.256</td> <td>   -8.575</td>\n",
       "</tr>\n",
       "<tr>\n",
       "  <th>sepal_len</th> <td>    2.6478</td> <td>    0.639</td> <td>    4.142</td> <td> 0.000</td> <td>    1.395</td> <td>    3.901</td>\n",
       "</tr>\n",
       "</table>"
      ],
      "text/plain": [
       "<class 'statsmodels.iolib.table.SimpleTable'>"
      ]
     },
     "execution_count": 18,
     "metadata": {},
     "output_type": "execute_result"
    }
   ],
   "source": [
    "# 推定された係数など\n",
    "logi_mod_len.summary().tables[1]"
   ]
  },
  {
   "cell_type": "code",
   "execution_count": 24,
   "metadata": {},
   "outputs": [
    {
     "name": "stdout",
     "output_type": "stream",
     "text": [
      "訓練データの的中率　： 0.746666666667\n",
      "テストデータの的中率： 0.68\n"
     ]
    }
   ],
   "source": [
    "# 予測精度\n",
    "# データの整形\n",
    "X_test_df = pd.DataFrame(\n",
    "    X_test, columns = [\"sepal_len\", \"sepal_wid\"])\n",
    "\n",
    "# 当てはめと予測\n",
    "logi_fit = logi_mod_len.fittedvalues.round(0)\n",
    "logi_pred = logi_mod_len.predict(X_test_df).round(0)\n",
    "\n",
    "# 正答数\n",
    "true_train = sp.sum(logi_fit == (y_train - 1))\n",
    "true_test = sp.sum(logi_pred == (y_test - 1))\n",
    "\n",
    "# 的中率\n",
    "result_train = true_train / len(y_train)\n",
    "result_test = true_test / len(y_test)\n",
    "\n",
    "#結果の出力\n",
    "print(\"訓練データの的中率　：\", result_train)\n",
    "print(\"テストデータの的中率：\", result_test)"
   ]
  },
  {
   "cell_type": "markdown",
   "metadata": {},
   "source": [
    "### 実装：標準化"
   ]
  },
  {
   "cell_type": "code",
   "execution_count": 25,
   "metadata": {
    "collapsed": true
   },
   "outputs": [],
   "source": [
    "# 標準化のための準備\n",
    "scaler = StandardScaler()\n",
    "scaler.fit(X_train)\n",
    "# 標準化する\n",
    "X_train_scaled = scaler.transform(X_train)\n",
    "X_test_scaled = scaler.transform(X_test)"
   ]
  },
  {
   "cell_type": "code",
   "execution_count": 26,
   "metadata": {},
   "outputs": [
    {
     "data": {
      "text/plain": [
       "array([ 1.,  1.])"
      ]
     },
     "execution_count": 26,
     "metadata": {},
     "output_type": "execute_result"
    }
   ],
   "source": [
    "sp.std(X_train_scaled, axis=0)"
   ]
  },
  {
   "cell_type": "code",
   "execution_count": 27,
   "metadata": {},
   "outputs": [
    {
     "data": {
      "text/plain": [
       "array([ 0.74 ,  0.679])"
      ]
     },
     "execution_count": 27,
     "metadata": {},
     "output_type": "execute_result"
    }
   ],
   "source": [
    "sp.std(X_test_scaled, axis=0)"
   ]
  },
  {
   "cell_type": "markdown",
   "metadata": {},
   "source": [
    "### 実装：ニューラルネットワーク"
   ]
  },
  {
   "cell_type": "code",
   "execution_count": 28,
   "metadata": {},
   "outputs": [
    {
     "name": "stdout",
     "output_type": "stream",
     "text": [
      "訓練データの的中率　： 0.893333333333\n",
      "テストデータの的中率： 0.68\n"
     ]
    }
   ],
   "source": [
    "nnet = MLPClassifier(\n",
    "    hidden_layer_sizes = (100,100),\n",
    "    alpha = 0.07,\n",
    "    max_iter = 10000,\n",
    "    random_state = 0)\n",
    "nnet.fit(X_train_scaled, y_train)\n",
    "\n",
    "# 正答率\n",
    "print(\"訓練データの的中率　：\", nnet.score(X_train_scaled, y_train))\n",
    "print(\"テストデータの的中率：\", nnet.score(X_test_scaled, y_test))"
   ]
  },
  {
   "cell_type": "code",
   "execution_count": null,
   "metadata": {
    "collapsed": true
   },
   "outputs": [],
   "source": []
  }
 ],
 "metadata": {
  "kernelspec": {
   "display_name": "Python 3",
   "language": "python",
   "name": "python3"
  },
  "language_info": {
   "codemirror_mode": {
    "name": "ipython",
    "version": 3
   },
   "file_extension": ".py",
   "mimetype": "text/x-python",
   "name": "python",
   "nbconvert_exporter": "python",
   "pygments_lexer": "ipython3",
   "version": "3.6.2"
  }
 },
 "nbformat": 4,
 "nbformat_minor": 2
}
